{
 "cells": [
  {
   "cell_type": "code",
   "execution_count": 2,
   "id": "28e7a348",
   "metadata": {},
   "outputs": [],
   "source": [
    "import torch\n",
    "import torch.nn as nn\n",
    "import torch.optim as optim\n",
    "import torch.optim.lr_scheduler as lr_scheduler\n",
    "from torch.utils.data import DataLoader\n",
    "from torch.autograd import Variable\n",
    "\n",
    "import math, random, sys\n",
    "import numpy as np\n",
    "import pandas as pd\n",
    "import argparse\n",
    "from argparse import Namespace\n",
    "from collections import deque\n",
    "import pickle as pickle\n",
    "from tqdm import tqdm\n",
    "\n",
    "from jtnn import *\n",
    "from auxiliaries import build_parser, set_random_seed\n",
    "from auxiliaries import set_random_seed, load_args_and_vocab\n",
    "import rdkit\n",
    "import json, os\n",
    "from rdkit import RDLogger"
   ]
  },
  {
   "cell_type": "code",
   "execution_count": 3,
   "id": "73368bfd",
   "metadata": {},
   "outputs": [],
   "source": [
    "import pathlib\n",
    "root = str(pathlib.Path().absolute())"
   ]
  },
  {
   "cell_type": "code",
   "execution_count": 4,
   "id": "cf58d756",
   "metadata": {},
   "outputs": [],
   "source": [
    "args = Namespace(**{\n",
    "    'target': 'strength',\n",
    "    'database': 'rafa',\n",
    "    'csv_file': 'mols_rafadb.csv'\n",
    "})"
   ]
  },
  {
   "cell_type": "markdown",
   "id": "f5cd5e86",
   "metadata": {},
   "source": [
    "## Train Set"
   ]
  },
  {
   "cell_type": "code",
   "execution_count": 5,
   "id": "9179b94b",
   "metadata": {},
   "outputs": [],
   "source": [
    "datapath = os.path.join(root, 'data', args.database, args.csv_file)\n",
    "df = pd.read_csv(datapath)\n",
    "data = df.smiles"
   ]
  },
  {
   "cell_type": "markdown",
   "id": "360e6b19",
   "metadata": {},
   "source": [
    "## Gen Model"
   ]
  },
  {
   "cell_type": "code",
   "execution_count": 7,
   "id": "89ba1739",
   "metadata": {},
   "outputs": [],
   "source": [
    "model_dir = 'gen_models/gen-2dmodel-h450-l4-n3-e150-s256395117'\n",
    "args, vocab = load_args_and_vocab(model_dir, 'data/rafa/vocab.txt')\n",
    "args['cuda'] = 1\n",
    "args = Namespace(**args)\n",
    "gmodel = JTNNVAE(vocab, args)\n",
    "gmodel.load_state_dict(torch.load(f'{model_dir}/model', map_location='cuda'))\n",
    "gmodel.cuda();"
   ]
  },
  {
   "cell_type": "markdown",
   "id": "c1134745",
   "metadata": {},
   "source": [
    "## Pred Models"
   ]
  },
  {
   "cell_type": "code",
   "execution_count": 8,
   "id": "40ef2e8e",
   "metadata": {},
   "outputs": [],
   "source": [
    "def tensorize(payload):\n",
    "    mol_tree = MolTree(payload)\n",
    "    mol_tree.recover()\n",
    "    del mol_tree.mol\n",
    "    for node in mol_tree.nodes:\n",
    "        node.cands = []\n",
    "        del node.mol\n",
    "    return mol_tree\n",
    "\n",
    "def score_smile(x, pmodel, vocab=vocab):\n",
    "    batch = tensorize(x)\n",
    "    dataset = MolTreeDataset([[batch]], vocab)\n",
    "    dataloader = DataLoader(dataset, batch_size=1, shuffle=False, collate_fn=lambda x:x[0])\n",
    "    with torch.no_grad():\n",
    "        for b in dataloader: break\n",
    "        score = pmodel(b).data.cpu().numpy().squeeze()\n",
    "    del dataloader, dataset, batch\n",
    "    return score"
   ]
  },
  {
   "cell_type": "code",
   "execution_count": 9,
   "id": "9b7b36ee",
   "metadata": {},
   "outputs": [],
   "source": [
    "model_dir = 'pred_models/ax-splitting-19081910'\n",
    "target = model_dir.split('-')[1]\n",
    "args, vocab = load_args_and_vocab(model_dir, 'data/rafa/vocab.txt')\n",
    "args = Namespace(**args)\n",
    "pmodel = RAFAVAE(vocab, args, evaluate=True)\n",
    "pmodel.load_state_dict(torch.load(f'{model_dir}/{args.target}-model', map_location='cuda'))\n",
    "pmodel.cuda();\n",
    "splitting = pmodel"
   ]
  },
  {
   "cell_type": "code",
   "execution_count": 10,
   "id": "1056f413",
   "metadata": {},
   "outputs": [],
   "source": [
    "model_dir = 'pred_models/ax-strength-13255643'\n",
    "target = model_dir.split('-')[1]\n",
    "args, vocab = load_args_and_vocab(model_dir, 'data/rafa/vocab.txt')\n",
    "args = Namespace(**args)\n",
    "pmodel = RAFAVAE(vocab, args, evaluate=True)\n",
    "pmodel.load_state_dict(torch.load(f'{model_dir}/{args.target}-model', map_location='cuda'))\n",
    "pmodel.cuda();\n",
    "strength = pmodel"
   ]
  },
  {
   "cell_type": "code",
   "execution_count": 11,
   "id": "ab2c696b",
   "metadata": {},
   "outputs": [],
   "source": [
    "model_dir = 'pred_models/ax-lumo-12157858'\n",
    "target = model_dir.split('-')[1]\n",
    "args, vocab = load_args_and_vocab(model_dir, 'data/rafa/vocab.txt')\n",
    "args = Namespace(**args)\n",
    "pmodel = RAFAVAE(vocab, args, evaluate=True)\n",
    "pmodel.load_state_dict(torch.load(f'{model_dir}/{args.target}-model', map_location='cuda'))\n",
    "pmodel.cuda();\n",
    "lumo = pmodel"
   ]
  },
  {
   "cell_type": "code",
   "execution_count": 12,
   "id": "018f7017",
   "metadata": {},
   "outputs": [],
   "source": [
    "model_dir = 'pred_models/ax-homo-12865654'\n",
    "target = model_dir.split('-')[1]\n",
    "args, vocab = load_args_and_vocab(model_dir, 'data/rafa/vocab.txt')\n",
    "args = Namespace(**args)\n",
    "pmodel = RAFAVAE(vocab, args, evaluate=True)\n",
    "pmodel.load_state_dict(torch.load(f'{model_dir}/{args.target}-model', map_location='cuda'))\n",
    "pmodel.cuda();\n",
    "homo = pmodel"
   ]
  },
  {
   "cell_type": "markdown",
   "id": "d410f771",
   "metadata": {},
   "source": [
    "## Plot"
   ]
  },
  {
   "cell_type": "code",
   "execution_count": 13,
   "id": "1ea37d42",
   "metadata": {},
   "outputs": [],
   "source": [
    "tree_vecs = []\n",
    "mol_vecs = []\n",
    "\n",
    "str_list = []\n",
    "spl_list = []\n",
    "homo_list = []\n",
    "lumo_list = []"
   ]
  },
  {
   "cell_type": "code",
   "execution_count": 14,
   "id": "52350f6e",
   "metadata": {
    "scrolled": true
   },
   "outputs": [
    {
     "name": "stderr",
     "output_type": "stream",
     "text": [
      "100%|██████████| 12866/12866 [26:32<00:00,  8.08it/s]\n"
     ]
    }
   ],
   "source": [
    "for t in tqdm(data):\n",
    "    latents = gmodel.encode_latent_mean([t]).detach().cpu().numpy()[0]\n",
    "    tree_vecs.append(latents[:2])\n",
    "    mol_vecs.append(latents[2:])\n",
    "    str_list.append(score_smile(t, strength))\n",
    "    spl_list.append(score_smile(t, splitting))\n",
    "    homo_list.append(score_smile(t, homo))\n",
    "    lumo_list.append(score_smile(t, lumo))"
   ]
  },
  {
   "cell_type": "code",
   "execution_count": 58,
   "id": "a6a7630b",
   "metadata": {},
   "outputs": [],
   "source": [
    "import matplotlib.pyplot as plt"
   ]
  },
  {
   "cell_type": "code",
   "execution_count": 59,
   "id": "de613517",
   "metadata": {},
   "outputs": [],
   "source": [
    "tree_vecs = np.array(tree_vecs)\n",
    "mol_vecs = np.array(mol_vecs)\n",
    "\n",
    "str_list = np.array(str_list)\n",
    "spl_list = np.array(spl_list)\n",
    "homo_list = np.array(homo_list)\n",
    "lumo_list = np.array(lumo_list)"
   ]
  },
  {
   "cell_type": "code",
   "execution_count": 64,
   "id": "5f223ed1",
   "metadata": {},
   "outputs": [
    {
     "data": {
      "text/plain": [
       "(12866,)"
      ]
     },
     "execution_count": 64,
     "metadata": {},
     "output_type": "execute_result"
    }
   ],
   "source": [
    "plt.scatter(tree_vecs[:,0],tree_vecs[:,1])"
   ]
  }
 ],
 "metadata": {
  "kernelspec": {
   "display_name": "Python 3",
   "language": "python",
   "name": "python3"
  },
  "language_info": {
   "codemirror_mode": {
    "name": "ipython",
    "version": 3
   },
   "file_extension": ".py",
   "mimetype": "text/x-python",
   "name": "python",
   "nbconvert_exporter": "python",
   "pygments_lexer": "ipython3",
   "version": "3.7.7"
  }
 },
 "nbformat": 4,
 "nbformat_minor": 5
}
