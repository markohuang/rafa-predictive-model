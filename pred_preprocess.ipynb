{
 "cells": [
  {
   "cell_type": "code",
   "execution_count": 1,
   "id": "46a5551f",
   "metadata": {},
   "outputs": [],
   "source": [
    "import pathlib\n",
    "root = str(pathlib.Path().absolute())"
   ]
  },
  {
   "cell_type": "markdown",
   "id": "5e017737",
   "metadata": {},
   "source": [
    "## Setup Data"
   ]
  },
  {
   "cell_type": "code",
   "execution_count": 2,
   "id": "f0b20061",
   "metadata": {},
   "outputs": [],
   "source": [
    "import numpy as np\n",
    "import pandas as pd\n",
    "import argparse\n",
    "import os\n",
    "from argparse import Namespace"
   ]
  },
  {
   "cell_type": "code",
   "execution_count": 3,
   "id": "f0eaaa2b",
   "metadata": {},
   "outputs": [],
   "source": [
    "args = Namespace(**{\n",
    "    'target': 'splitting',\n",
    "    'database': 'oled-all',\n",
    "    'csv_file': 'oled_all.csv'\n",
    "})"
   ]
  },
  {
   "cell_type": "code",
   "execution_count": 4,
   "id": "1db5d758",
   "metadata": {},
   "outputs": [],
   "source": [
    "datapath = os.path.join(root, 'data', args.database, args.csv_file)\n",
    "savepath = os.path.join(root, 'pred_processed', args.target)\n",
    "os.makedirs(savepath, exist_ok=True)"
   ]
  },
  {
   "cell_type": "code",
   "execution_count": 5,
   "id": "dac5fca4",
   "metadata": {},
   "outputs": [],
   "source": [
    "df = pd.read_csv(datapath)\n",
    "df = df.dropna(subset=[args.target])\n",
    "df = df[['smiles', args.target]]"
   ]
  },
  {
   "cell_type": "code",
   "execution_count": 6,
   "id": "43598196",
   "metadata": {},
   "outputs": [],
   "source": [
    "# clip outliers for rate\n",
    "if args.target == 'rate':\n",
    "    rate = df['rate']\n",
    "    df = df[((rate > 1e-100) & (rate < 1e-8))]\n",
    "    df['rate'] = np.log(df['rate'])\n",
    "# if args.target == 'strength':\n",
    "#     strength = df['strength']\n",
    "#     df = df[strength > 0]\n"
   ]
  },
  {
   "cell_type": "code",
   "execution_count": 7,
   "id": "7b837ed3",
   "metadata": {},
   "outputs": [],
   "source": [
    "# Three way split of 70% train set, 20% val set, 10% test set\n",
    "train, val, test = np.split(df.sample(frac=1), [int(.7*len(df)), int(.9*len(df))])\n",
    "# All\n",
    "x0 = df['smiles']\n",
    "y0 = df[args.target]\n",
    "x0.to_csv(os.path.join(savepath, 'all.txt'), header=None, index=None, sep=' ')\n",
    "np.save(os.path.join(savepath, 'all_labels'), np.array(y0.values))\n",
    "# Train\n",
    "x1 = train['smiles']\n",
    "y1 = train[args.target]\n",
    "x1.to_csv(os.path.join(savepath, 'train.txt'), header=None, index=None, sep=' ')\n",
    "np.save(os.path.join(savepath, 'train_labels'), np.array(y1.values))\n",
    "# Val\n",
    "x2 = val['smiles']\n",
    "y2 = val[args.target]\n",
    "x2.to_csv(os.path.join(savepath, 'val.txt'), header=None, index=None, sep=' ')\n",
    "np.save(os.path.join(savepath, 'val_labels'), np.array(y2.values))\n",
    "# Test\n",
    "x3 = test['smiles']\n",
    "y3 = test[args.target]\n",
    "x3.to_csv(os.path.join(savepath, 'test.txt'), header=None, index=None, sep=' ')\n",
    "np.save(os.path.join(savepath, 'test_labels'), np.array(y3.values))"
   ]
  },
  {
   "cell_type": "markdown",
   "id": "1b6a6921",
   "metadata": {},
   "source": [
    "## Preprocessing"
   ]
  },
  {
   "cell_type": "code",
   "execution_count": 8,
   "id": "9e05e92e",
   "metadata": {},
   "outputs": [],
   "source": [
    "import torch\n",
    "import torch.nn as nn\n",
    "from multiprocessing import Pool\n",
    "\n",
    "import math, random, sys\n",
    "from optparse import OptionParser\n",
    "import pickle as pickle\n",
    "\n",
    "from jtnn import *\n",
    "import rdkit\n",
    "from rdkit import RDLogger\n",
    "import glob, shutil"
   ]
  },
  {
   "cell_type": "code",
   "execution_count": 9,
   "id": "e40a5c3d",
   "metadata": {},
   "outputs": [],
   "source": [
    "opts = Namespace(**{**{\n",
    "    'njobs': 8,\n",
    "    'nsplits': 100\n",
    "}, **vars(args)})"
   ]
  },
  {
   "cell_type": "code",
   "execution_count": 10,
   "id": "1cf33998",
   "metadata": {},
   "outputs": [],
   "source": [
    "def tensorize(payload, assm=True):\n",
    "    mol_tree = MolTree(payload)\n",
    "    mol_tree.recover()\n",
    "    if assm:\n",
    "        mol_tree.assemble()\n",
    "        for node in mol_tree.nodes:\n",
    "            if node.label not in node.cands:\n",
    "                node.cands.append(node.label)\n",
    "    del mol_tree.mol\n",
    "    for node in mol_tree.nodes:\n",
    "        del node.mol\n",
    "    return mol_tree\n",
    "\n",
    "def package_data(data, num_splits, processed_folder, prefix):\n",
    "    le = int((len(data) + num_splits - 1) / num_splits)\n",
    "    for split_id in range(num_splits):\n",
    "        st = int(split_id * le)\n",
    "        sub_data = data[st : st + le]\n",
    "        with open('{}-tensors-{}.pkl'.format(prefix, split_id), 'wb') as f:\n",
    "            pickle.dump(sub_data, f, pickle.HIGHEST_PROTOCOL)\n",
    "    if not os.path.exists(processed_folder):\n",
    "        os.makedirs(processed_folder)\n",
    "    for f in glob.glob(r'*-*-*.pkl'):\n",
    "        shutil.move(f, os.path.join(processed_folder, f))\n"
   ]
  },
  {
   "cell_type": "code",
   "execution_count": 11,
   "id": "73320e73",
   "metadata": {},
   "outputs": [],
   "source": [
    "lg = RDLogger.logger() \n",
    "lg.setLevel(RDLogger.CRITICAL)\n",
    "\n",
    "pool = Pool(opts.njobs)\n",
    "num_splits = int(opts.nsplits)\n",
    "target = opts.target"
   ]
  },
  {
   "cell_type": "code",
   "execution_count": 12,
   "id": "393cc589",
   "metadata": {},
   "outputs": [],
   "source": [
    "# for encoder target prediction\n",
    "train_labels = np.load(os.path.join(savepath, 'train_labels.npy'))\n",
    "val_labels = np.load(os.path.join(savepath, 'val_labels.npy'))\n",
    "test_labels = np.load(os.path.join(savepath, 'test_labels.npy'))\n",
    "with open(os.path.join(savepath, 'train.txt')) as f:\n",
    "    data = [(line.strip(\"\\r\\n \").split()[0], label) for line, label in zip(f, train_labels)]\n",
    "with open(os.path.join(savepath, 'val.txt') )as f:\n",
    "    val_data = [(line.strip(\"\\r\\n \").split()[0], label) for line, label in zip(f, val_labels)]\n",
    "with open(os.path.join(savepath, 'test.txt')) as f:\n",
    "    test_data = [(line.strip(\"\\r\\n \").split()[0], label) for line, label in zip(f, test_labels)]"
   ]
  },
  {
   "cell_type": "code",
   "execution_count": null,
   "id": "f9630128",
   "metadata": {},
   "outputs": [],
   "source": [
    "train_data = pool.map(tensorize, data)\n",
    "val_data = pool.map(tensorize, val_data)\n",
    "test_data = pool.map(tensorize, test_data)\n",
    "# train_data = list(map(tensorize, data))\n",
    "# val_data = list(map(tensorize, val_data))\n",
    "# test_data = list(map(tensorize, test_data))"
   ]
  },
  {
   "cell_type": "code",
   "execution_count": 14,
   "id": "b22863d9",
   "metadata": {},
   "outputs": [
    {
     "ename": "TypeError",
     "evalue": "object of type 'map' has no len()",
     "output_type": "error",
     "traceback": [
      "\u001b[0;31m---------------------------------------------------------------------------\u001b[0m",
      "\u001b[0;31mTypeError\u001b[0m                                 Traceback (most recent call last)",
      "\u001b[0;32m<ipython-input-14-e0cc38cba400>\u001b[0m in \u001b[0;36m<module>\u001b[0;34m\u001b[0m\n\u001b[0;32m----> 1\u001b[0;31m \u001b[0mpackage_data\u001b[0m\u001b[0;34m(\u001b[0m\u001b[0mtrain_data\u001b[0m\u001b[0;34m,\u001b[0m \u001b[0mnum_splits\u001b[0m\u001b[0;34m,\u001b[0m \u001b[0mos\u001b[0m\u001b[0;34m.\u001b[0m\u001b[0mpath\u001b[0m\u001b[0;34m.\u001b[0m\u001b[0mjoin\u001b[0m\u001b[0;34m(\u001b[0m\u001b[0msavepath\u001b[0m\u001b[0;34m,\u001b[0m \u001b[0;34m'train'\u001b[0m\u001b[0;34m)\u001b[0m\u001b[0;34m,\u001b[0m \u001b[0;34m'train'\u001b[0m\u001b[0;34m)\u001b[0m\u001b[0;34m\u001b[0m\u001b[0;34m\u001b[0m\u001b[0m\n\u001b[0m\u001b[1;32m      2\u001b[0m \u001b[0mpackage_data\u001b[0m\u001b[0;34m(\u001b[0m\u001b[0mval_data\u001b[0m\u001b[0;34m,\u001b[0m \u001b[0mnum_splits\u001b[0m\u001b[0;34m,\u001b[0m \u001b[0mos\u001b[0m\u001b[0;34m.\u001b[0m\u001b[0mpath\u001b[0m\u001b[0;34m.\u001b[0m\u001b[0mjoin\u001b[0m\u001b[0;34m(\u001b[0m\u001b[0msavepath\u001b[0m\u001b[0;34m,\u001b[0m \u001b[0;34m'val'\u001b[0m\u001b[0;34m)\u001b[0m\u001b[0;34m,\u001b[0m \u001b[0;34m'val'\u001b[0m\u001b[0;34m)\u001b[0m\u001b[0;34m\u001b[0m\u001b[0;34m\u001b[0m\u001b[0m\n\u001b[1;32m      3\u001b[0m \u001b[0mpackage_data\u001b[0m\u001b[0;34m(\u001b[0m\u001b[0mtest_data\u001b[0m\u001b[0;34m,\u001b[0m \u001b[0mnum_splits\u001b[0m\u001b[0;34m,\u001b[0m \u001b[0mos\u001b[0m\u001b[0;34m.\u001b[0m\u001b[0mpath\u001b[0m\u001b[0;34m.\u001b[0m\u001b[0mjoin\u001b[0m\u001b[0;34m(\u001b[0m\u001b[0msavepath\u001b[0m\u001b[0;34m,\u001b[0m \u001b[0;34m'test'\u001b[0m\u001b[0;34m)\u001b[0m\u001b[0;34m,\u001b[0m \u001b[0;34m'test'\u001b[0m\u001b[0;34m)\u001b[0m\u001b[0;34m\u001b[0m\u001b[0;34m\u001b[0m\u001b[0m\n\u001b[1;32m      4\u001b[0m \u001b[0mprint\u001b[0m\u001b[0;34m(\u001b[0m\u001b[0;34m'\\n---Preprocessing Complete---\\n'\u001b[0m\u001b[0;34m)\u001b[0m\u001b[0;34m\u001b[0m\u001b[0;34m\u001b[0m\u001b[0m\n",
      "\u001b[0;32m<ipython-input-10-1447e4a8b351>\u001b[0m in \u001b[0;36mpackage_data\u001b[0;34m(data, num_splits, processed_folder, prefix)\u001b[0m\n\u001b[1;32m     13\u001b[0m \u001b[0;34m\u001b[0m\u001b[0m\n\u001b[1;32m     14\u001b[0m \u001b[0;32mdef\u001b[0m \u001b[0mpackage_data\u001b[0m\u001b[0;34m(\u001b[0m\u001b[0mdata\u001b[0m\u001b[0;34m,\u001b[0m \u001b[0mnum_splits\u001b[0m\u001b[0;34m,\u001b[0m \u001b[0mprocessed_folder\u001b[0m\u001b[0;34m,\u001b[0m \u001b[0mprefix\u001b[0m\u001b[0;34m)\u001b[0m\u001b[0;34m:\u001b[0m\u001b[0;34m\u001b[0m\u001b[0;34m\u001b[0m\u001b[0m\n\u001b[0;32m---> 15\u001b[0;31m     \u001b[0mle\u001b[0m \u001b[0;34m=\u001b[0m \u001b[0mint\u001b[0m\u001b[0;34m(\u001b[0m\u001b[0;34m(\u001b[0m\u001b[0mlen\u001b[0m\u001b[0;34m(\u001b[0m\u001b[0mdata\u001b[0m\u001b[0;34m)\u001b[0m \u001b[0;34m+\u001b[0m \u001b[0mnum_splits\u001b[0m \u001b[0;34m-\u001b[0m \u001b[0;36m1\u001b[0m\u001b[0;34m)\u001b[0m \u001b[0;34m/\u001b[0m \u001b[0mnum_splits\u001b[0m\u001b[0;34m)\u001b[0m\u001b[0;34m\u001b[0m\u001b[0;34m\u001b[0m\u001b[0m\n\u001b[0m\u001b[1;32m     16\u001b[0m     \u001b[0;32mfor\u001b[0m \u001b[0msplit_id\u001b[0m \u001b[0;32min\u001b[0m \u001b[0mrange\u001b[0m\u001b[0;34m(\u001b[0m\u001b[0mnum_splits\u001b[0m\u001b[0;34m)\u001b[0m\u001b[0;34m:\u001b[0m\u001b[0;34m\u001b[0m\u001b[0;34m\u001b[0m\u001b[0m\n\u001b[1;32m     17\u001b[0m         \u001b[0mst\u001b[0m \u001b[0;34m=\u001b[0m \u001b[0mint\u001b[0m\u001b[0;34m(\u001b[0m\u001b[0msplit_id\u001b[0m \u001b[0;34m*\u001b[0m \u001b[0mle\u001b[0m\u001b[0;34m)\u001b[0m\u001b[0;34m\u001b[0m\u001b[0;34m\u001b[0m\u001b[0m\n",
      "\u001b[0;31mTypeError\u001b[0m: object of type 'map' has no len()"
     ]
    }
   ],
   "source": [
    "package_data(train_data, num_splits, os.path.join(savepath, 'train'), 'train')\n",
    "package_data(val_data, num_splits, os.path.join(savepath, 'val'), 'val')\n",
    "package_data(test_data, num_splits, os.path.join(savepath, 'test'), 'test')\n",
    "print('\\n---Preprocessing Complete---\\n')"
   ]
  }
 ],
 "metadata": {
  "kernelspec": {
   "display_name": "Python 3",
   "language": "python",
   "name": "python3"
  },
  "language_info": {
   "codemirror_mode": {
    "name": "ipython",
    "version": 3
   },
   "file_extension": ".py",
   "mimetype": "text/x-python",
   "name": "python",
   "nbconvert_exporter": "python",
   "pygments_lexer": "ipython3",
   "version": "3.7.7"
  }
 },
 "nbformat": 4,
 "nbformat_minor": 5
}
